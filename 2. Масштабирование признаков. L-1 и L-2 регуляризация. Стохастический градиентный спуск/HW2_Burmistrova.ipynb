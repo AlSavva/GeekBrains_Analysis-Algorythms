{
 "cells": [
  {
   "cell_type": "markdown",
   "metadata": {},
   "source": [
    "### Урок 2. Масштабирование признаков. Регуляризация. Стохастический градиентный спуск."
   ]
  },
  {
   "cell_type": "code",
   "execution_count": 124,
   "metadata": {
    "colab": {},
    "colab_type": "code",
    "id": "_u5bV-OlT34p"
   },
   "outputs": [],
   "source": [
    "import numpy as np\n",
    "import matplotlib.pyplot as plt"
   ]
  },
  {
   "cell_type": "code",
   "execution_count": 125,
   "metadata": {
    "colab": {},
    "colab_type": "code",
    "id": "_n6il-AZaLuA"
   },
   "outputs": [],
   "source": [
    "X = np.array([[1, 1, 1, 1, 1, 1, 1, 1, 1, 1],\n",
    "              [1, 1, 2, 5, 3, 0, 5, 10, 1, 2],\n",
    "              [500, 700, 750, 600, 1450, 800, 1500, 2000, 450, 1000],\n",
    "              [1, 1, 2, 1, 2, 1, 3, 3, 1, 2]])"
   ]
  },
  {
   "cell_type": "code",
   "execution_count": 126,
   "metadata": {
    "colab": {},
    "colab_type": "code",
    "id": "x8yoci01ni-t"
   },
   "outputs": [],
   "source": [
    "y = [45, 55, 50, 55, 60, 35, 75, 80, 50, 60]"
   ]
  },
  {
   "cell_type": "code",
   "execution_count": 127,
   "metadata": {
    "colab": {},
    "colab_type": "code",
    "id": "VDpN7UxYnrcS"
   },
   "outputs": [],
   "source": [
    "def calc_mse(y, y_pred):\n",
    "    err = np.mean((y - y_pred)**2)\n",
    "    return err"
   ]
  },
  {
   "cell_type": "code",
   "execution_count": 128,
   "metadata": {},
   "outputs": [],
   "source": [
    "def eval_model_reg2(X, y, iterations, alpha=1e-4, lambda_=1e-8):\n",
    "    np.random.seed(42)\n",
    "    W = np.random.randn(X.shape[0])\n",
    "    n = X.shape[1]\n",
    "    for i in range(1, iterations+1):\n",
    "        y_pred = np.dot(W, X)\n",
    "        err = calc_mse(y, y_pred)\n",
    "        W -= alpha * (1/n * 2 * np.dot((y_pred - y), X.T) + lambda_ * W) \n",
    "#         if i % (iterations / 10) == 0:\n",
    "#             print(i, W, err)\n",
    "    return W"
   ]
  },
  {
   "cell_type": "code",
   "execution_count": 129,
   "metadata": {},
   "outputs": [
    {
     "data": {
      "text/plain": [
       "array([-0.23415337, -0.23413696,  1.57921282,  0.76743473])"
      ]
     },
     "execution_count": 129,
     "metadata": {},
     "output_type": "execute_result"
    }
   ],
   "source": [
    "W = np.random.randn(X.shape[0])\n",
    "W"
   ]
  },
  {
   "cell_type": "markdown",
   "metadata": {},
   "source": [
    "## Д/з"
   ]
  },
  {
   "cell_type": "markdown",
   "metadata": {},
   "source": [
    "* Постройте график зависимости весов всех признаков от lambda в L2-регуляризации (на данных из урока). Сделайте вывод"
   ]
  },
  {
   "cell_type": "code",
   "execution_count": 130,
   "metadata": {},
   "outputs": [
    {
     "name": "stdout",
     "output_type": "stream",
     "text": [
      "[1.10784314 0.20547419 0.19795963 0.20576233]\n",
      "[9.41666667 1.44984507 1.33835494 1.42938586]\n",
      "[37.66666667  4.01145689  2.67324854  3.68757438]\n",
      "[53.80952381  5.73058911  0.98368306  5.51609942]\n",
      "[56.21890547  6.23067581 -0.16462974  6.42092637]\n",
      "[56.47176412  6.29561264 -0.33623812  6.55564816]\n",
      "[56.49717514  6.30231751 -0.35424091  6.56978425]\n",
      "[56.4997175   6.3029902  -0.35605002  6.57120483]\n"
     ]
    }
   ],
   "source": [
    "W_lambda_e2 = eval_model_reg2(X_st, y, iterations=5000, alpha=1e-2, lambda_=1e2)\n",
    "W_lambda_e1 = eval_model_reg2(X_st, y, iterations=5000, alpha=1e-2, lambda_=1e1)\n",
    "W_lambda_1 = eval_model_reg2(X_st, y, iterations=5000, alpha=1e-2, lambda_=1)\n",
    "W_lambda_1e_1 = eval_model_reg2(X_st, y, iterations=5000, alpha=1e-2, lambda_=1e-1)\n",
    "W_lambda_1e_2 = eval_model_reg2(X_st, y, iterations=5000, alpha=1e-2, lambda_=1e-2)\n",
    "W_lambda_1e_3 = eval_model_reg2(X_st, y, iterations=5000, alpha=1e-2, lambda_=1e-3)\n",
    "W_lambda_1e_4 = eval_model_reg2(X_st, y, iterations=5000, alpha=1e-2, lambda_=1e-4)\n",
    "W_lambda_1e_5 = eval_model_reg2(X_st, y, iterations=5000, alpha=1e-2, lambda_=1e-5)\n",
    "print(W_lambda_e2)\n",
    "print(W_lambda_e1)\n",
    "print(W_lambda_1)\n",
    "print(W_lambda_1e_1)\n",
    "print(W_lambda_1e_2)\n",
    "print(W_lambda_1e_3)\n",
    "print(W_lambda_1e_4)\n",
    "print(W_lambda_1e_5)"
   ]
  },
  {
   "cell_type": "code",
   "execution_count": 58,
   "metadata": {},
   "outputs": [],
   "source": [
    "%matplotlib inline"
   ]
  },
  {
   "cell_type": "code",
   "execution_count": 131,
   "metadata": {
    "scrolled": true
   },
   "outputs": [
    {
     "data": {
      "image/png": "[encoded data removed]",
      "text/plain": [
       "<Figure size 432x288 with 1 Axes>"
      ]
     },
     "metadata": {
      "needs_background": "light"
     },
     "output_type": "display_data"
    }
   ],
   "source": [
    "plt.title('Изменение весов в зависимости от Lambda')\n",
    "plt.xlabel('Порядковый номер веса')\n",
    "plt.ylabel('Значения весов')\n",
    "plt.plot([0, 1, 2, 3], W_lambda_e2, color='r',  label = 'Lambda = e2')\n",
    "plt.plot([0, 1, 2, 3], W_lambda_e1, color='orange',  label = 'Lambda = e1')\n",
    "plt.plot([0, 1, 2, 3], W_lambda_1, color='y',  label = 'Lambda = 1')\n",
    "plt.plot([0, 1, 2, 3], W_lambda_1e_1, color='g',  label = 'Lambda = 1e-1')\n",
    "plt.plot([0, 1, 2, 3], W_lambda_1e_2, color='c',  label = 'Lambda = 1e-2')\n",
    "plt.plot([0, 1, 2, 3], W_lambda_1e_3, color='b',  label = 'Lambda = 1e-3')\n",
    "plt.plot([0, 1, 2, 3], W_lambda_1e_4, color='m',  label = 'Lambda = 1e-4')\n",
    "plt.plot([0, 1, 2, 3], W_lambda_1e_5, color='k',  label = 'Lambda = 1e-5')\n",
    "\n",
    "plt.show()"
   ]
  },
  {
   "cell_type": "markdown",
   "metadata": {},
   "source": [
    "Вывод:\n",
    "    Чем больше Lambda, тем меньше значения весов из-за стремления среднеквадратической ошибки к минимуму"
   ]
  },
  {
   "cell_type": "markdown",
   "metadata": {},
   "source": [
    "* Можно ли к одному и тому же признаку применить сразу и нормализацию, и стандартизацию?"
   ]
  },
  {
   "cell_type": "markdown",
   "metadata": {},
   "source": [
    "Можно, но зачем? и на практике наверное не имеет смысла? Проверим."
   ]
  },
  {
   "cell_type": "code",
   "execution_count": 132,
   "metadata": {},
   "outputs": [],
   "source": [
    "from sklearn.preprocessing import StandardScaler\n",
    "from sklearn.preprocessing import MinMaxScaler"
   ]
  },
  {
   "cell_type": "markdown",
   "metadata": {},
   "source": [
    "Сначала стандартизируем, потом нормируем."
   ]
  },
  {
   "cell_type": "code",
   "execution_count": 133,
   "metadata": {},
   "outputs": [
    {
     "name": "stdout",
     "output_type": "stream",
     "text": [
      "[[0.00000000e+00 0.00000000e+00 0.00000000e+00 0.00000000e+00\n",
      "  0.00000000e+00 1.25000000e-03 0.00000000e+00 0.00000000e+00\n",
      "  0.00000000e+00 0.00000000e+00]\n",
      " [0.00000000e+00 0.00000000e+00 1.33511348e-03 6.67779633e-03\n",
      "  1.38026225e-03 0.00000000e+00 2.66844563e-03 4.50225113e-03\n",
      "  0.00000000e+00 1.00100100e-03]\n",
      " [1.00000000e+00 1.00000000e+00 1.00000000e+00 1.00000000e+00\n",
      "  1.00000000e+00 1.00000000e+00 1.00000000e+00 1.00000000e+00\n",
      "  1.00000000e+00 1.00000000e+00]\n",
      " [0.00000000e+00 0.00000000e+00 1.33511348e-03 0.00000000e+00\n",
      "  6.90131125e-04 1.25000000e-03 1.33422282e-03 1.00050025e-03\n",
      "  0.00000000e+00 1.00100100e-03]]\n",
      "0.0 1.0\n"
     ]
    }
   ],
   "source": [
    "X_test1 = X.copy()\n",
    "scaler_stand = StandardScaler()\n",
    "scaler_norm = MinMaxScaler()\n",
    "X_test2 = scaler_stand.fit_transform(X_test1)\n",
    "X_test3 = scaler_norm.fit_transform(X_test2)\n",
    "print(X_test3)\n",
    "print(X_test3.min(), X_test3.max())"
   ]
  },
  {
   "cell_type": "markdown",
   "metadata": {},
   "source": [
    "Данные отмасштабированы от 0 до 1 по последнему методу.\n",
    "Теперь наоборот: нормируем, потом стандартизируем. "
   ]
  },
  {
   "cell_type": "code",
   "execution_count": 134,
   "metadata": {
    "scrolled": false
   },
   "outputs": [
    {
     "name": "stdout",
     "output_type": "stream",
     "text": [
      "[[-0.57735027 -0.57735027 -0.57940718 -0.58249071 -0.57894479 -0.57638682\n",
      "  -0.58043426 -0.58158972 -0.57735027 -0.57889218]\n",
      " [-0.57735027 -0.57735027 -0.57632113 -0.5670349  -0.57575501 -0.57927597\n",
      "  -0.57426353 -0.57117319 -0.57735027 -0.57657893]\n",
      " [ 1.73205081  1.73205081  1.73204943  1.73201633  1.73204971  1.7320496\n",
      "   1.73204669  1.73203785  1.73205081  1.73205004]\n",
      " [-0.57735027 -0.57735027 -0.57632113 -0.58249071 -0.5773499  -0.57638682\n",
      "  -0.5773489  -0.57927494 -0.57735027 -0.57657893]]\n",
      "-0.582490711396413 1.7320508075688774\n"
     ]
    }
   ],
   "source": [
    "X_test11 = X.copy()\n",
    "scaler_stand = StandardScaler()\n",
    "scaler_norm = MinMaxScaler()\n",
    "X_test22 = scaler_norm.fit_transform(X_test1)\n",
    "X_test33 = scaler_stand.fit_transform(X_test2)\n",
    "print(X_test33)\n",
    "print(X_test33.min(), X_test33.max())"
   ]
  },
  {
   "cell_type": "markdown",
   "metadata": {},
   "source": [
    "Данные отмасштабированы по последнему использованному методу стандартизации."
   ]
  },
  {
   "cell_type": "markdown",
   "metadata": {},
   "source": [
    "* Напишите функцию наподобие eval_model_reg2, но для применения L1-регуляризации."
   ]
  },
  {
   "cell_type": "code",
   "execution_count": 141,
   "metadata": {},
   "outputs": [],
   "source": [
    "def eval_model_reg1(X, y, iterations, alpha=1e-4, lambda_=1e-2):\n",
    "    np.random.seed(42)\n",
    "    W = np.random.randn(X.shape[0])\n",
    "    n = X.shape[1]\n",
    "    for i in range(1, iterations+1):\n",
    "        y_pred = np.dot(W, X)\n",
    "        err = calc_mse(y, y_pred)\n",
    "        sum_w = 0 \n",
    "        W -= alpha * (1/n * 2 * np.dot((y_pred - y), X.T) + lambda_ * np.sum(np.abs(W))) # \n",
    "#         if i % (iterations / 10) == 0:\n",
    "#             print(i, W, err)\n",
    "    return W"
   ]
  },
  {
   "cell_type": "code",
   "execution_count": 142,
   "metadata": {},
   "outputs": [
    {
     "data": {
      "text/plain": [
       "array([56.15448985,  6.12005344, -0.41592844,  6.41158805])"
      ]
     },
     "execution_count": 142,
     "metadata": {},
     "output_type": "execute_result"
    }
   ],
   "source": [
    "W_lambda1_1e_2 = eval_model_reg1(X_st, y, iterations=5000, alpha=1e-2)\n",
    "W_lambda1_1e_2"
   ]
  },
  {
   "cell_type": "code",
   "execution_count": 143,
   "metadata": {},
   "outputs": [
    {
     "data": {
      "text/plain": [
       "array([56.21890547,  6.23067581, -0.16462974,  6.42092637])"
      ]
     },
     "execution_count": 143,
     "metadata": {},
     "output_type": "execute_result"
    }
   ],
   "source": [
    "W_lambda2_1e_2 = eval_model_reg2(X_st, y, iterations=5000, alpha=1e-2, lambda_=1e-2)\n",
    "W_lambda2_1e_2"
   ]
  }
 ],
 "metadata": {
  "colab": {
   "collapsed_sections": [],
   "name": "Lesson2.ipynb",
   "provenance": []
  },
  "kernelspec": {
   "display_name": "Python 3",
   "language": "python",
   "name": "python3"
  },
  "language_info": {
   "codemirror_mode": {
    "name": "ipython",
    "version": 3
   },
   "file_extension": ".py",
   "mimetype": "text/x-python",
   "name": "python",
   "nbconvert_exporter": "python",
   "pygments_lexer": "ipython3",
   "version": "3.7.6"
  }
 },
 "nbformat": 4,
 "nbformat_minor": 1
}
