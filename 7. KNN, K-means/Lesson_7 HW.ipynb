{
 "cells": [
  {
   "cell_type": "markdown",
   "metadata": {
    "colab_type": "text",
    "id": "pkNPdXJtuf9t"
   },
   "source": [
    "# Классификация с помощью kNN. Кластеризация K-means"
   ]
  },
  {
   "cell_type": "markdown",
   "metadata": {},
   "source": [
    "#### 1. К алгоритму kNN, реализованному на уроке, реализовать добавление весов для соседей по любому из показанных на уроке принципов. \n",
    "\n",
    "В рамках этого задания была изменена функция knn (добавлены веса)"
   ]
  },
  {
   "cell_type": "code",
   "execution_count": 1,
   "metadata": {
    "colab": {},
    "colab_type": "code",
    "id": "ChmkZ71kuf9-"
   },
   "outputs": [
    {
     "data": {
      "text/plain": [
       "<matplotlib.collections.PathCollection at 0x12936069848>"
      ]
     },
     "execution_count": 1,
     "metadata": {},
     "output_type": "execute_result"
    },
    {
     "data": {
      "image/png": "[encoded data removed]",
      "text/plain": [
       "<Figure size 504x504 with 1 Axes>"
      ]
     },
     "metadata": {
      "needs_background": "light"
     },
     "output_type": "display_data"
    }
   ],
   "source": [
    "import numpy as np\n",
    "from sklearn import model_selection\n",
    "from sklearn.datasets import load_iris\n",
    "import matplotlib.pyplot as plt\n",
    "import matplotlib\n",
    "%matplotlib inline\n",
    "from matplotlib.colors import ListedColormap\n",
    "\n",
    "\n",
    "X, y = load_iris(return_X_y=True)\n",
    "# Для наглядности возьмем только первые два признака (всего в датасете их 4)\n",
    "X = X[:, :2]\n",
    "X_train, X_test, y_train, y_test = model_selection.train_test_split(X, y, test_size=0.2, random_state=1)\n",
    "\n",
    "cmap = ListedColormap(['red', 'green', 'blue'])\n",
    "plt.figure(figsize=(7, 7))\n",
    "plt.scatter(X[:, 0], X[:, 1], c=y, cmap=cmap)"
   ]
  },
  {
   "cell_type": "code",
   "execution_count": 7,
   "metadata": {
    "colab": {},
    "colab_type": "code",
    "id": "MKipIKeGuf-P"
   },
   "outputs": [],
   "source": [
    "# Используем евклидову метрику. Реализуем функцию для ее подсчета.\n",
    "\n",
    "def e_metrics(x1, x2):\n",
    "    \n",
    "    distance = 0\n",
    "    for i in range(len(x1)):\n",
    "        distance += np.square(x1[i] - x2[i])\n",
    "    \n",
    "    return np.sqrt(distance)\n",
    "\n",
    "# Напишем функцию для вычисления точности.\n",
    "\n",
    "def accuracy(pred, y):\n",
    "    return (sum(pred == y) / len(y))"
   ]
  },
  {
   "cell_type": "markdown",
   "metadata": {
    "colab_type": "text",
    "id": "1tvFJ8-ouf-T"
   },
   "source": [
    "Реализуем алгоритм поиска k ближайших соседей c весами."
   ]
  },
  {
   "cell_type": "code",
   "execution_count": 92,
   "metadata": {
    "colab": {},
    "colab_type": "code",
    "id": "LIKuDr9huf-V"
   },
   "outputs": [],
   "source": [
    "def knn(x_train, y_train, x_test, k, q):  #Добавлено q - устанавливаемое при запуске функции вручную\n",
    "    \n",
    "    answers = []\n",
    "    for x in x_test:\n",
    "        test_distances = []\n",
    "            \n",
    "        for i in range(len(x_train)):\n",
    "            \n",
    "            # расчет расстояния от классифицируемого объекта до\n",
    "            # объекта обучающей выборки\n",
    "            distance = e_metrics(x, x_train[i])\n",
    "            \n",
    "            # Записываем в список значение расстояния и ответа на объекте обучающей выборки\n",
    "            test_distances.append((distance, y_train[i]))\n",
    "        \n",
    "        # создаем словарь со всеми возможными классами\n",
    "        classes= {class_item: 0 for class_item in set(y_train)}\n",
    "\n",
    "        # Сортируем список и среди первых k элементов, посчитаем сумму весов классов ближайших соседей\n",
    "        for d in sorted(test_distances)[0:k]:\n",
    "            classes[d[1]] += q ** d[0]  # Вместо прибавления 1, прибавляем вес признака в словарь по ближайшим соседям\n",
    "#        print(classes)    \n",
    "\n",
    "#        print(sorted(classes, key=classes.get)[-1])    \n",
    "        # Записываем в список ответов класс, который по сумме весов оказывает большее влияние на соседа\n",
    "        answers.append(sorted(classes, key=classes.get)[-1])\n",
    "    return answers"
   ]
  },
  {
   "cell_type": "markdown",
   "metadata": {
    "colab_type": "text",
    "id": "SprqYVBQuf-a"
   },
   "source": [
    "Проверим работу алгоритма при различных k"
   ]
  },
  {
   "cell_type": "code",
   "execution_count": 93,
   "metadata": {
    "colab": {},
    "colab_type": "code",
    "id": "8K98g57quf-a",
    "outputId": "be768ef7-9825-4ffb-9dc6-516565e92263"
   },
   "outputs": [
    {
     "name": "stdout",
     "output_type": "stream",
     "text": [
      "Точность алгоритма при k = 10: 0.867\n"
     ]
    }
   ],
   "source": [
    "k = 10\n",
    "\n",
    "y_pred = knn(X_train, y_train, X_test, k, 0.5)\n",
    "\n",
    "print(f'Точность алгоритма при k = {k}: {accuracy(y_pred, y_test):.3f}')"
   ]
  },
  {
   "cell_type": "markdown",
   "metadata": {},
   "source": [
    "Точность:\n",
    "\n",
    "k = 2: была 0.667, стала 0.733\n",
    "\n",
    "k = 3:  была 0.733, стала 0.733\n",
    "\n",
    "k = 4: была 0.833, стала 0.767\n",
    "\n",
    "k = 5: была 0.867, стала 0.867\n",
    "\n",
    "k = 10: была 0.833, стала 0.867\n",
    "\n",
    "По идее при увеличении количества K в алгоритме без весов точность становится все менее информативной и более непредсказумой, в отличии от алгоритма с весами, т.к. прибавляются объекты, которые дальше, но с маленьким и невлияющим весом"
   ]
  },
  {
   "cell_type": "markdown",
   "metadata": {
    "colab_type": "text",
    "id": "b6H4U6Fcuf-8"
   },
   "source": [
    "## Обучение без учителя. Кластеризация. K-means"
   ]
  },
  {
   "cell_type": "markdown",
   "metadata": {},
   "source": [
    "#### 2*. Написать функцию подсчета метрики качества кластеризации как среднее квадратичное внутриклассовое расстояние и построить график ее зависимости от количества кластеров k (взять от 1 до 10) для выборки данных из данного урока (создать датасет, как в методичке).\n",
    "\n",
    "В рамках этого задания была создана функция quality и построен график зависимости антикачества от количества кластеров с 4 линиями зависимости от количества итераций"
   ]
  },
  {
   "cell_type": "code",
   "execution_count": 2,
   "metadata": {
    "colab": {},
    "colab_type": "code",
    "id": "qRhCTQdZuf_G"
   },
   "outputs": [],
   "source": [
    "from sklearn.datasets import make_blobs\n",
    "import random\n",
    "\n",
    "X, y = make_blobs(n_samples=100, random_state=1)"
   ]
  },
  {
   "cell_type": "code",
   "execution_count": 3,
   "metadata": {
    "colab": {},
    "colab_type": "code",
    "id": "7LSTomiyuf_L"
   },
   "outputs": [],
   "source": [
    "def kmeans(data, k, max_iterations, min_distance):    \n",
    "    # инициализируем центроиды как первые k элементов датасета\n",
    "    centroids = [data[i] for i in range(k)]\n",
    "    \n",
    "    for _ in range(max_iterations):\n",
    "        # Создадим словарь для классификации\n",
    "        classes = {i: [] for i in range(k)}\n",
    "        \n",
    "        # классифицируем объекты по центроидам\n",
    "        for x in data:\n",
    "            # определим расстояния от объекта до каждого центроида\n",
    "            distances = [e_metrics(x, centroid) for centroid in centroids]\n",
    "            # отнесем объект к кластеру, до центроида которого наименьшее расстояние\n",
    "            classification = distances.index(min(distances))\n",
    "            classes[classification].append(x)\n",
    "        \n",
    "        # сохраним предыдущие центроиды в отдельный список для последующего сравнения сновыми\n",
    "        old_centroids = centroids.copy()\n",
    "        \n",
    "        # пересчитаем центроиды как среднее по кластерам\n",
    "        for classification in classes:\n",
    "            centroids[classification] = np.average(classes[classification], axis=0)\n",
    "            \n",
    "        # сравним величину смещения центроидов с минимальной\n",
    "        optimal = True\n",
    "        for centroid in range(len(centroids)):\n",
    "            if np.sum(abs((centroids[centroid] - old_centroids[centroid]) / old_centroids * 100)) > min_distance:\n",
    "                optimal = False\n",
    "                \n",
    "        # если все смещения меньше минимального, останавливаем алгоритм  \n",
    "        if optimal:\n",
    "            break\n",
    "    \n",
    "    return old_centroids, classes"
   ]
  },
  {
   "cell_type": "code",
   "execution_count": 20,
   "metadata": {},
   "outputs": [],
   "source": [
    "def quality(centroids, clusters):  # внутрикластерное расстояние нужно минимизировать\n",
    "    clasters_dist = 0  \n",
    "    for key in clusters.keys():  # пробегаемся по словарю (по кластерам), в котором точки уже были разбиты по кластерам\n",
    "        claster_dist = 0\n",
    "        for point in clusters[key]: # пробегаемся по каждой точке в словаре, чтобы посчитать расстояние этой точки до центроиды\n",
    "            claster_dist += np.square(e_metrics(centroids[key], point)) # расстояние возводим в квадрат и суммируем\n",
    "        clasters_dist += claster_dist/len(clusters[key]) # среднее квадратичное расстояние суммируем по каждому кластеру\n",
    "    return round(clasters_dist, 2)"
   ]
  },
  {
   "cell_type": "code",
   "execution_count": 21,
   "metadata": {
    "colab": {},
    "colab_type": "code",
    "id": "Hsy8q0FOuf_Q",
    "scrolled": false
   },
   "outputs": [],
   "source": [
    "# и минимальное расстояние между центроидами до пересчета и после него, при котором нужно остановить алгоритм\n",
    "min_distance = 1e-4\n",
    "# сразу определим известное нам количество кластеров\n",
    "k = 3"
   ]
  },
  {
   "cell_type": "code",
   "execution_count": 22,
   "metadata": {},
   "outputs": [
    {
     "name": "stdout",
     "output_type": "stream",
     "text": [
      "1 [89.33, 18.47, 21.71, 24.15, 16.92, 13.02, 13.88, 14.52, 12.53, 10.39]\n",
      "3 [41.18, 10.88, 4.7, 4.96, 4.79, 5.7, 5.49, 5.72, 6.05, 6.2]\n",
      "5 [41.18, 10.88, 4.68, 4.83, 4.72, 5.69, 5.48, 5.62, 5.92, 5.91]\n",
      "10 [41.18, 10.88, 4.68, 4.83, 4.72, 5.69, 5.48, 5.62, 5.92, 5.7]\n"
     ]
    }
   ],
   "source": [
    "max_iterations = 1\n",
    "gualities_1 = []\n",
    "for k_i in range(1, 11):\n",
    "    gualities_1.append(quality(*kmeans(X, k_i, max_iterations, min_distance)))\n",
    "print(max_iterations, gualities_1)\n",
    "max_iterations = 3\n",
    "gualities_3 = []\n",
    "for k_i in range(1, 11):\n",
    "    gualities_3.append(quality(*kmeans(X, k_i, max_iterations, min_distance)))\n",
    "print(max_iterations, gualities_3)\n",
    "max_iterations = 5\n",
    "gualities_5 = []\n",
    "for k_i in range(1, 11):\n",
    "    gualities_5.append(quality(*kmeans(X, k_i, max_iterations, min_distance)))\n",
    "print(max_iterations, gualities_5)\n",
    "max_iterations = 10\n",
    "gualities_10 = []\n",
    "for k_i in range(1, 11):\n",
    "    gualities_10.append(quality(*kmeans(X, k_i, max_iterations, min_distance)))\n",
    "print(max_iterations, gualities_10)"
   ]
  },
  {
   "cell_type": "markdown",
   "metadata": {},
   "source": [
    "1. После 3 кластеров график вышел на асимптоту\n",
    "2. при большем количестве итераций качество растет "
   ]
  },
  {
   "cell_type": "code",
   "execution_count": 23,
   "metadata": {},
   "outputs": [
    {
     "data": {
      "text/plain": [
       "<matplotlib.legend.Legend at 0x12936d85bc8>"
      ]
     },
     "execution_count": 23,
     "metadata": {},
     "output_type": "execute_result"
    },
    {
     "data": {
      "image/png": "[encoded data removed]",
      "text/plain": [
       "<Figure size 1080x576 with 1 Axes>"
      ]
     },
     "metadata": {
      "needs_background": "light"
     },
     "output_type": "display_data"
    }
   ],
   "source": [
    "fig = plt.figure(figsize=(15,8))\n",
    "plt.title('Изменение качества в зависимости от количества кластеров. Количество итераций = 1')\n",
    "plt.xlabel('Количество кластеров')\n",
    "plt.ylabel('Качество')\n",
    "plt.plot([i for i in range(1, 11)], gualities_1, color='r', label='Количество итераций = 1')\n",
    "plt.plot([i for i in range(1, 11)], gualities_3, color='orange', label='Количество итераций = 3')\n",
    "plt.plot([i for i in range(1, 11)], gualities_5, color='b', label='Количество итераций = 5')\n",
    "plt.plot([i for i in range(1, 11)], gualities_10, color='g', label='Количество итераций = 10')\n",
    "plt.legend()"
   ]
  },
  {
   "cell_type": "code",
   "execution_count": null,
   "metadata": {},
   "outputs": [],
   "source": []
  }
 ],
 "metadata": {
  "colab": {
   "collapsed_sections": [],
   "name": "Lesson_7(edited).ipynb",
   "provenance": []
  },
  "kernelspec": {
   "display_name": "Python 3",
   "language": "python",
   "name": "python3"
  },
  "language_info": {
   "codemirror_mode": {
    "name": "ipython",
    "version": 3
   },
   "file_extension": ".py",
   "mimetype": "text/x-python",
   "name": "python",
   "nbconvert_exporter": "python",
   "pygments_lexer": "ipython3",
   "version": "3.7.6"
  }
 },
 "nbformat": 4,
 "nbformat_minor": 1
}
